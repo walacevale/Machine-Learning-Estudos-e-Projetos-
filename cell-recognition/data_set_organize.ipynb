{
 "cells": [
  {
   "cell_type": "code",
   "execution_count": 1,
   "metadata": {},
   "outputs": [],
   "source": [
    "import os\n",
    "import numpy as np\n",
    "import glob\n",
    "import matplotlib.pyplot as plt\n",
    "import cv2"
   ]
  },
  {
   "cell_type": "code",
   "execution_count": 22,
   "metadata": {},
   "outputs": [],
   "source": [
    "image_dir = 'train_all'\n",
    "mask_dir = 'mask_all'\n",
    "img_size=(1024, 1024)\n",
    "images = []\n",
    "masks = []\n",
    "\n",
    "image_files = sorted(glob.glob(os.path.join(image_dir, \"*.tif\")))\n",
    "mask_files = sorted(glob.glob(os.path.join(mask_dir, \"*.tif\")))\n",
    "\n",
    "for img_path, mask_path in zip(image_files, mask_files):\n",
    "    image_name = os.path.basename(img_path).split('w1')[0]\n",
    "    mask_name = os.path.basename(mask_path).split('_GT_')[0]\n",
    "    \n",
    "    \n",
    "    #if image_name == mask_name:\n",
    "    image = cv2.imread(mask_path)\n",
    "    image_resize = cv2.resize(image, img_size, \n",
    "               interpolation=cv2.INTER_NEAREST)\n",
    "    cv2.imwrite('mask_end/' + mask_name + '.tif', image_resize)\n",
    "        "
   ]
  }
 ],
 "metadata": {
  "kernelspec": {
   "display_name": "Python 3",
   "language": "python",
   "name": "python3"
  },
  "language_info": {
   "codemirror_mode": {
    "name": "ipython",
    "version": 3
   },
   "file_extension": ".py",
   "mimetype": "text/x-python",
   "name": "python",
   "nbconvert_exporter": "python",
   "pygments_lexer": "ipython3",
   "version": "3.11.9"
  }
 },
 "nbformat": 4,
 "nbformat_minor": 2
}
